{
 "cells": [
  {
   "cell_type": "code",
   "execution_count": 4,
   "metadata": {},
   "outputs": [],
   "source": [
    "import numpy as np\n",
    "import essentia.standard as estd\n",
    "import essentia as ess\n",
    "import scipy\n",
    "import pandas as pd\n",
    "import csv\n",
    "import re\n",
    "import os\n",
    "import IPython.display as ipd\n",
    "import tempfile\n",
    "import random\n"
   ]
  },
  {
   "cell_type": "code",
   "execution_count": 5,
   "metadata": {},
   "outputs": [],
   "source": [
    "# Set base directory where the dataset is located\n",
    "\n",
    "#Songs\n",
    "Songs = ['AllOfMe', 'AutumnLeaves', 'HaveYouMetMissJones', 'justFriends', 'Solar', 'TakeTheATrain', 'thereWillNeverBeAnotherYou']\n",
    "\n",
    "#Directories\n",
    "Directorie = ['Songs_v2/AllOfMe', 'Songs_v2/AutumnLeaves','Songs_v2/HaveYouMetMissJones','Songs_v2/justFriends','Songs_v2/Solar','Songs_v2/TakeTheATrain','Songs_v2/thereWillNeverBeAnotherYou'] \n"
   ]
  },
  {
   "cell_type": "code",
   "execution_count": 67,
   "metadata": {},
   "outputs": [],
   "source": [
    "d={}\n",
    "x = 0\n",
    "wavs = []\n",
    "wavs = os.listdir(Directorie[6])\n",
    "                    ####CHANGE HERE############################\n",
    "\n",
    "    \n",
    "#  \"Song Name” _ “Segment number” _ “Slice  number” _ “Performance  Level”.  \n",
    "    \n",
    "for lst in wavs:\n",
    "    if '.wav' in lst: \n",
    "        #Read files from the folder\n",
    "        nome = re.search('(.+?)_', lst).group(1)\n",
    "        segment_id = re.search('_(.+?)_', lst).group(1)\n",
    "        slice_id = re.search(segment_id + '_(.+?)_', lst).group(1)\n",
    "        \n",
    "        pf_id = re.search(segment_id +'_'+ slice_id + '_(.+)', lst).group(1)\n",
    "        pf_id = pf_id[:-4]\n",
    "        \n",
    "        analysis_file = lst[:-4]\n",
    "        analysis_file = analysis_file + '.json'\n",
    "        \n",
    "                   ####CHANGE HERE################################\n",
    "        location = Directorie[6] + '/' +lst\n",
    "        audio = estd.MonoLoader(filename=location)()\n",
    "        \n",
    "        #Insert in the dictionary\n",
    "        d[x] = {}\n",
    "        d[x]['Name'] = nome\n",
    "        d[x]['Segment Number'] = segment_id\n",
    "        d[x]['slice Number'] = slice_id\n",
    "        d[x]['Performance_Level'] = pf_id\n",
    "        d[x]['Analysis_file'] = analysis_file\n",
    "        d[x]['Audio'] = audio\n",
    "        \n",
    "        x = x+1\n"
   ]
  },
  {
   "cell_type": "code",
   "execution_count": 68,
   "metadata": {},
   "outputs": [
    {
     "data": {
      "text/plain": [
       "19"
      ]
     },
     "execution_count": 68,
     "metadata": {},
     "output_type": "execute_result"
    }
   ],
   "source": [
    "len(d)"
   ]
  },
  {
   "cell_type": "code",
   "execution_count": 69,
   "metadata": {},
   "outputs": [],
   "source": [
    "def extract_features(audio_frame, pool):\n",
    "    '''\n",
    "    Extracts multiple features using Essentia's Extractor\n",
    "    \n",
    "    Arguments:\n",
    "        - audio_frame:[float] - audio frame\n",
    "    Returns:\n",
    "        - results:pool – Essentia's pool datastructure with aggregated features\n",
    "    '''\n",
    "    extractor = estd.Extractor(highLevel=True, \n",
    "                    midLevel=True,\n",
    "                    rhythm=True,\n",
    "                    tuning=True,\n",
    "                    lowLevelFrameSize=1024,\n",
    "                    lowLevelHopSize = 512,\n",
    "                   )\n",
    "    \n",
    "    pool.merge(extractor(audio_frame))\n",
    "    pool.remove('rhythm.onset_times')\n",
    "    pool.remove('rhythm.beats_loudness')\n",
    "    pool.remove('rhythm.beats_position')\n",
    "    pool.remove('rhythm.bpm_estimates')\n",
    "    pool.remove('rhythm.bpm_intervals')\n",
    "    pool.remove('rhythm.beats_loudness_band_ratio')\n",
    "    pool.remove('tonal.chords_progression')\n",
    "    pool.remove('rhythm.histogram')\n",
    "    \n",
    "    aggrPool = estd.PoolAggregator(defaultStats = [ 'mean', 'stdev' ])(pool)\n",
    "    return aggrPool"
   ]
  },
  {
   "cell_type": "code",
   "execution_count": 70,
   "metadata": {},
   "outputs": [
    {
     "name": "stdout",
     "output_type": "stream",
     "text": [
      "thereWillNeverBeAnotherYou_1_9_low.json\n",
      "thereWillNeverBeAnotherYou_2_5_mid.json\n",
      "thereWillNeverBeAnotherYou_1_1_low.json\n",
      "thereWillNeverBeAnotherYou_2_4_mid.json\n",
      "thereWillNeverBeAnotherYou_1_8_low.json\n",
      "thereWillNeverBeAnotherYou_1_3_low.json\n",
      "thereWillNeverBeAnotherYou_1_2_low.json\n",
      "thereWillNeverBeAnotherYou_1_14_low.json\n",
      "thereWillNeverBeAnotherYou_2_2_mid.json\n",
      "thereWillNeverBeAnotherYou_1_7_low.json\n",
      "thereWillNeverBeAnotherYou_1_11_low.json\n",
      "thereWillNeverBeAnotherYou_2_3_mid.json\n",
      "thereWillNeverBeAnotherYou_1_10_low.json\n",
      "thereWillNeverBeAnotherYou_1_6_low.json\n",
      "thereWillNeverBeAnotherYou_2_1_mid.json\n",
      "thereWillNeverBeAnotherYou_1_12_low.json\n",
      "thereWillNeverBeAnotherYou_1_4_low.json\n",
      "thereWillNeverBeAnotherYou_1_5_low.json\n",
      "thereWillNeverBeAnotherYou_1_13_low.json\n"
     ]
    }
   ],
   "source": [
    "count = 0\n",
    "\n",
    "while count < len(d):\n",
    "    \n",
    "    audio = d[count]['Audio']\n",
    "    filename = d[count]['Analysis_file']\n",
    "    print(filename)\n",
    "   \n",
    "    pool = ess.Pool()\n",
    "    pool = extract_features(audio, pool)\n",
    "        \n",
    "    #Append complexity feature\n",
    "    \n",
    "    pool.add('Performance_Level', d[count]['Performance_Level'])\n",
    "        \n",
    "    #write in file\n",
    "    estd.YamlOutput(filename= 'Songs_v2/JSON' + '/'+ filename[:-5] + '_' + '.json', format = 'json')(pool)\n",
    "        \n",
    "    \n",
    "    count = count + 1\n",
    "      \n",
    "    "
   ]
  },
  {
   "cell_type": "code",
   "execution_count": null,
   "metadata": {},
   "outputs": [],
   "source": []
  },
  {
   "cell_type": "code",
   "execution_count": null,
   "metadata": {},
   "outputs": [],
   "source": []
  }
 ],
 "metadata": {
  "kernelspec": {
   "display_name": "Python 3",
   "language": "python",
   "name": "python3"
  },
  "language_info": {
   "codemirror_mode": {
    "name": "ipython",
    "version": 3
   },
   "file_extension": ".py",
   "mimetype": "text/x-python",
   "name": "python",
   "nbconvert_exporter": "python",
   "pygments_lexer": "ipython3",
   "version": "3.5.2"
  }
 },
 "nbformat": 4,
 "nbformat_minor": 2
}
